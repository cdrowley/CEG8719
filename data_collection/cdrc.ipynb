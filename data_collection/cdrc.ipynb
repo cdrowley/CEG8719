{
 "cells": [
  {
   "cell_type": "markdown",
   "metadata": {},
   "source": [
    "# CDRC"
   ]
  },
  {
   "cell_type": "code",
   "execution_count": null,
   "metadata": {},
   "outputs": [],
   "source": [
    "import os\n",
    "import re\n",
    "import zipfile\n",
    "from pathlib import Path\n",
    "\n",
    "import duckdb\n",
    "import fiona\n",
    "import pandas as pd\n",
    "from PyPDF2 import PdfReader\n",
    "\n",
    "from cdrc import cdrc_get_metadata, cdrc_login\n",
    "from utils import download_file, get_filesize_mb\n",
    "\n",
    "\n",
    "cdrc = Path(\"data/cdrc\")\n",
    "cdrc.mkdir(parents=True, exist_ok=True)\n",
    "\n",
    "cdrc_session = cdrc_login(\n",
    "    os.environ.get(\"CDRC_USERNAME\"), os.environ.get(\"CDRC_PASSWORD\")\n",
    ")\n",
    "if cdrc_session is None:\n",
    "    raise \"Check CDRC Login / Session Request\"\n",
    "\n",
    "con = duckdb.connect()\n",
    "for extension in (\"spatial\", \"parquet\", \"httpfs\"):\n",
    "    con.install_extension(extension)\n",
    "    con.load_extension(extension)"
   ]
  },
  {
   "cell_type": "code",
   "execution_count": null,
   "metadata": {},
   "outputs": [],
   "source": [
    "# for writeup\n",
    "# https://www.ons.gov.uk/methodology/geography/geographicalproducts/areaclassifications/2021residentialbasedareaclassifications"
   ]
  },
  {
   "cell_type": "markdown",
   "metadata": {},
   "source": [
    "### [Output Area Classification - 2021](https://data.cdrc.ac.uk/dataset/output-area-classification-2021)"
   ]
  },
  {
   "cell_type": "code",
   "execution_count": null,
   "metadata": {},
   "outputs": [],
   "source": [
    "source_url = \"https://data.cdrc.ac.uk/dataset/output-area-classification-2021\"\n",
    "data_url = \"https://data.cdrc.ac.uk/system/files/OAC_gpkg.zip\"\n",
    "pdf_url = \"https://data.cdrc.ac.uk/system/files/Pen_Portraits_EW.pdf\"\n",
    "\n",
    "dataset = \"oac_2021\"\n",
    "tmp_file = Path(data_url.split(\"/\")[-1].lower())\n",
    "\n",
    "data_file = cdrc.joinpath(f\"{dataset}.parquet.gzip\")\n",
    "metadata_file = cdrc.joinpath(f\"{dataset}_metadata.parquet\")\n",
    "pdf_file = cdrc.joinpath(f\"{dataset}.pdf\")\n",
    "lookup_file = cdrc.joinpath(f\"{dataset}_lookup.parquet\")"
   ]
  },
  {
   "cell_type": "markdown",
   "metadata": {},
   "source": [
    "#### Output Area Classification - 2021"
   ]
  },
  {
   "cell_type": "code",
   "execution_count": null,
   "metadata": {},
   "outputs": [],
   "source": [
    "success = download_file(data_url, tmp_file, cdrc_session)\n",
    "if not success:\n",
    "    raise f\"Error Downloading Data: {data_url}"
   ]
  },
  {
   "cell_type": "code",
   "execution_count": null,
   "metadata": {},
   "outputs": [],
   "source": [
    "gpkg = Path(\"OAC.gpkg\")\n",
    "with zipfile.ZipFile(tmp_file, \"r\") as zip_ref:\n",
    "    zip_ref.extract(gpkg.name)\n",
    "fiona.listlayers(gpkg.name)"
   ]
  },
  {
   "cell_type": "code",
   "execution_count": null,
   "metadata": {},
   "outputs": [],
   "source": [
    "layer = \"OAC_SuperGroup\"\n",
    "\n",
    "query = f\"\"\"\n",
    "COPY (\n",
    "  SELECT\n",
    "    OA21CD AS oa_code_21 -- primary key\n",
    "    , la23cd AS la_code_23\n",
    "    , sg::INT::TEXT AS super_grp\n",
    "    , g AS grp\n",
    "    , subg AS sub_grp\n",
    "    , ST_ASWKB(geom) AS geom_wkb_4326\n",
    "  FROM ST_Read('{gpkg}', layer='{layer}')\n",
    "\n",
    "  -- ordered to enable better gzip compression\n",
    "  ORDER BY 2, ST_XMIN(geom)\n",
    ")\n",
    "TO '{data_file}'\n",
    "(FORMAT 'PARQUET', CODEC 'GZIP')\n",
    ";\n",
    "\"\"\"\n",
    "\n",
    "con.execute(query)"
   ]
  },
  {
   "cell_type": "code",
   "execution_count": null,
   "metadata": {},
   "outputs": [],
   "source": [
    "print(f\"Size of '{tmp_file}': {get_filesize_mb(tmp_file):.2f} MB\")\n",
    "print(f\"Size of '{gpkg}': {get_filesize_mb(gpkg):.2f} MB\")\n",
    "print(f\"Size of '{data_file}': {get_filesize_mb(data_file):.2f} MB\")"
   ]
  },
  {
   "cell_type": "code",
   "execution_count": null,
   "metadata": {},
   "outputs": [],
   "source": [
    "# remove temp files\n",
    "tmp_file.unlink()\n",
    "gpkg.unlink()"
   ]
  },
  {
   "cell_type": "markdown",
   "metadata": {},
   "source": [
    "#### Output Area Classification - 2021 Metadata"
   ]
  },
  {
   "cell_type": "code",
   "execution_count": null,
   "metadata": {},
   "outputs": [],
   "source": [
    "metadata = cdrc_get_metadata(source_url, cdrc_session)\n",
    "\n",
    "if metadata is None:\n",
    "    raise \"Error Getting Metadata\"\n",
    "\n",
    "metadata.to_parquet(metadata_file)\n",
    "metadata"
   ]
  },
  {
   "cell_type": "markdown",
   "metadata": {},
   "source": [
    "#### Output Area Classification - 2021 PDF & OAC Lookups"
   ]
  },
  {
   "cell_type": "code",
   "execution_count": null,
   "metadata": {},
   "outputs": [],
   "source": [
    "success = download_file(pdf_url, pdf_file, cdrc_session)\n",
    "if not success:\n",
    "    raise f\"Error Downloading Data: {data_url}\""
   ]
  },
  {
   "cell_type": "code",
   "execution_count": null,
   "metadata": {},
   "outputs": [],
   "source": [
    "# get OAC (Super/Sub)Group description pages (from page 12 to the end)\n",
    "reader = PdfReader(pdf_file)\n",
    "text = \"\".join(page.extract_text() for page in reader.pages[11:])"
   ]
  },
  {
   "cell_type": "code",
   "execution_count": null,
   "metadata": {},
   "outputs": [],
   "source": [
    "# regex patterns\n",
    "supergroup_desc_pattern = r\"\\n(\\d): (.*?)(?=\\n\\d:|\\n\\d[a-z]:|\\Z)\"\n",
    "group_desc_pattern = r\"(\\d[a-z]): (.*?)(?=\\n\\d:|\\n\\d[a-z]:|\\n\\d[a-z]\\d:|\\Z)\"\n",
    "subgroup_desc_pattern = r\"(\\d[a-z]\\d)[: ](.*?)(?=Examples|England)\"\n",
    "\n",
    "# extract\n",
    "supergroup_descriptions = re.findall(supergroup_desc_pattern, text, re.DOTALL)\n",
    "group_descriptions = re.findall(group_desc_pattern, text, re.DOTALL)\n",
    "subgroup_descriptions = re.findall(subgroup_desc_pattern, text, re.DOTALL)"
   ]
  },
  {
   "cell_type": "code",
   "execution_count": null,
   "metadata": {},
   "outputs": [],
   "source": [
    "# convert to dataframes / cleanup\n",
    "supergroups_df = pd.DataFrame(\n",
    "    supergroup_descriptions, columns=[\"super_grp\", \"super_grp_desc\"]\n",
    ").assign(\n",
    "    super_grp_name=lambda df: df[\"super_grp_desc\"].str.split(\"\\n\").str[0].str.strip(),\n",
    "    super_grp_desc=lambda df: df[\"super_grp_desc\"].str.strip(),\n",
    ")\n",
    "\n",
    "groups_df = pd.DataFrame(group_descriptions, columns=[\"grp\", \"grp_desc\"]).assign(\n",
    "    grp_name=lambda df: df[\"grp_desc\"].str.split(\"\\n\").str[0].str.strip(),\n",
    "    super_grp=lambda df: df[\"grp\"].str.extract(r\"(\\d)\"),\n",
    "    grp_desc=lambda df: df[\"grp_desc\"].str.strip(),\n",
    ")\n",
    "\n",
    "subgroups_df = pd.DataFrame(\n",
    "    subgroup_descriptions, columns=[\"sub_grp\", \"sub_grp_desc\"]\n",
    ").assign(\n",
    "    sub_grp_name=lambda df: df[\"sub_grp_desc\"].str.split(\"\\n\").str[0].str.strip(),\n",
    "    super_grp=lambda df: df[\"sub_grp\"].str.extract(r\"(\\d)\"),\n",
    "    grp=lambda df: df[\"sub_grp\"].str.extract(r\"(\\d[a-z])\"),\n",
    "    sub_grp_desc=lambda df: df[\"sub_grp_desc\"].str.strip(),\n",
    ")"
   ]
  },
  {
   "cell_type": "code",
   "execution_count": null,
   "metadata": {},
   "outputs": [],
   "source": [
    "# The 2021 OAC classification comprises 8 Supergroups, 21 Groups and 52 Subgroups\n",
    "assert supergroups_df.shape[0] == 8\n",
    "assert groups_df.shape[0] == 21\n",
    "assert subgroups_df.shape[0] == 52"
   ]
  },
  {
   "cell_type": "code",
   "execution_count": null,
   "metadata": {},
   "outputs": [],
   "source": [
    "columns = [\n",
    "    \"sub_grp\",\n",
    "    \"grp\",\n",
    "    \"super_grp\",\n",
    "    \"sub_grp_name\",\n",
    "    \"grp_name\",\n",
    "    \"super_grp_name\",\n",
    "    \"sub_grp_desc\",\n",
    "    \"grp_desc\",\n",
    "    \"super_grp_desc\",\n",
    "]\n",
    "subgroup_flat_df = subgroups_df.merge(\n",
    "    groups_df, on=[\"super_grp\", \"grp\"], how=\"left\"\n",
    ").merge(supergroups_df, on=[\"super_grp\"], how=\"left\")[columns]\n",
    "\n",
    "subgroup_flat_df.head(1)"
   ]
  },
  {
   "cell_type": "code",
   "execution_count": null,
   "metadata": {},
   "outputs": [],
   "source": [
    "subgroup_flat_df.to_parquet(lookup_file)"
   ]
  },
  {
   "cell_type": "markdown",
   "metadata": {},
   "source": [
    "### [CDRC Residential Mobility Index](https://data.cdrc.ac.uk/dataset/cdrc-residential-mobility-index)\n",
    "\n",
    "Availale at LSOA and LAD, for initial work use higher level LAD\n",
    "\n",
    "For Geometries:\n",
    " - https://geoportal.statistics.gov.uk/datasets/ons::local-authority-districts-may-2023-boundaries-uk-bfc/explore?location=52.653485%2C-0.681218%2C6.50"
   ]
  },
  {
   "cell_type": "code",
   "execution_count": null,
   "metadata": {},
   "outputs": [],
   "source": [
    "source_url = \"https://data.cdrc.ac.uk/dataset/cdrc-residential-mobility-index\"\n",
    "data_url = \"https://data.cdrc.ac.uk/system/files/hh_churn_oslaua_2023.csv\"\n",
    "pdf_url = (\n",
    "    \"https://data.cdrc.ac.uk/system/files/CDRC%20Residential%20Mobility%20Index.pdf\"\n",
    ")\n",
    "\n",
    "dataset = \"residential_mobility_lad_2023\"\n",
    "tmp_file = Path(data_url.split(\"/\")[-1].lower())\n",
    "\n",
    "data_file = cdrc.joinpath(f\"{dataset}.parquet.gzip\")\n",
    "metadata_file = cdrc.joinpath(f\"{dataset}_metadata.parquet\")\n",
    "pdf_file = cdrc.joinpath(\"residential_mobility_2023.pdf\")"
   ]
  },
  {
   "cell_type": "markdown",
   "metadata": {},
   "source": [
    "#### Residential Mobility (LAD 2011-2023)"
   ]
  },
  {
   "cell_type": "code",
   "execution_count": null,
   "metadata": {},
   "outputs": [],
   "source": [
    "success = download_file(data_url, tmp_file, cdrc_session)\n",
    "if not success:\n",
    "    raise f\"Error Downloading Data: {data_url}\""
   ]
  },
  {
   "cell_type": "code",
   "execution_count": null,
   "metadata": {},
   "outputs": [],
   "source": [
    "query = f\"\"\"\n",
    "COPY( SELECT * FROM READ_CSV('{tmp_file}', auto_detect=TRUE) )\n",
    "TO '{data_file}'\n",
    "(FORMAT 'PARQUET', CODEC 'GZIP')\n",
    ";\n",
    "\"\"\"\n",
    "\n",
    "con.execute(query)"
   ]
  },
  {
   "cell_type": "markdown",
   "metadata": {},
   "source": [
    "#### Residential Mobility (LAD 2011-2023) - Metadata"
   ]
  },
  {
   "cell_type": "code",
   "execution_count": null,
   "metadata": {},
   "outputs": [],
   "source": [
    "metadata = cdrc_get_metadata(source_url, cdrc_session)\n",
    "if metadata is None:\n",
    "    raise \"Error Getting Metadata\"\n",
    "\n",
    "metadata.to_parquet(metadata_file)\n",
    "metadata"
   ]
  },
  {
   "cell_type": "markdown",
   "metadata": {},
   "source": [
    "#### Residential Mobility (LAD 2011-2023) - PDF"
   ]
  },
  {
   "cell_type": "code",
   "execution_count": null,
   "metadata": {},
   "outputs": [],
   "source": [
    "success = download_file(pdf_url, pdf_file, cdrc_session)\n",
    "if not success:\n",
    "    raise f\"Error Downloading Data: {pdf_url}\""
   ]
  },
  {
   "cell_type": "code",
   "execution_count": null,
   "metadata": {},
   "outputs": [],
   "source": [
    "# remove temp files\n",
    "tmp_file.unlink()"
   ]
  }
 ],
 "metadata": {
  "kernelspec": {
   "display_name": "Python 3",
   "language": "python",
   "name": "python3"
  },
  "language_info": {
   "codemirror_mode": {
    "name": "ipython",
    "version": 3
   },
   "file_extension": ".py",
   "mimetype": "text/x-python",
   "name": "python",
   "nbconvert_exporter": "python",
   "pygments_lexer": "ipython3",
   "version": "3.11.7"
  }
 },
 "nbformat": 4,
 "nbformat_minor": 2
}
