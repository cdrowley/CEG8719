{
 "cells": [
  {
   "cell_type": "markdown",
   "id": "5497e240",
   "metadata": {},
   "source": [
    "# Data Processing\n",
    "\n",
    "### TODO mention postgis, code, avoiding point and click, reproducibility\n",
    "### duckdb where possible for portability (write sql code once, run anywhere mostly)"
   ]
  }
 ],
 "metadata": {
  "jupytext": {
   "text_representation": {
    "extension": ".md",
    "format_name": "myst",
    "format_version": 0.13,
    "jupytext_version": "1.11.5"
   }
  },
  "kernelspec": {
   "display_name": "Python 3",
   "language": "python",
   "name": "python3"
  },
  "source_map": [
   12
  ]
 },
 "nbformat": 4,
 "nbformat_minor": 5
}