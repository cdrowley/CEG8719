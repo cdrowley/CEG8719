{
 "cells": [
  {
   "cell_type": "markdown",
   "id": "f9f1315f",
   "metadata": {},
   "source": [
    "# Data Collection\n",
    "\n",
    "Data Access\n",
    "Data Reusability\n",
    "FAIR Principles in Practice\n",
    "\n",
    "## Data Discovery\n",
    "TODO mention metadata + standards in general\n",
    "TODO mention the metadata on the CDRC website against the standards\n",
    "\n",
    "### Key Datasources\n",
    "[![ONS Logo](https://www.nomisweb.co.uk/images/ons-logo.svg)](https://www.ons.gov.uk/) \n",
    "\n",
    "- [Official Census and Labour Market Statistics](https://www.nomisweb.co.uk)\n",
    "- [Open Geography Portal](https://geoportal.statistics.gov.uk/)\n",
    "\n",
    "\n",
    "[![CDRC Logo](https://data.cdrc.ac.uk/sites/default/files/cdrclogo_0.svg)](https://data.cdrc.ac.uk/) \n",
    "\n",
    "### CDRC Open Datasets (to review):\n",
    "- [CDRC Residential Mobility Index](https://data.cdrc.ac.uk/dataset/cdrc-residential-mobility-index)\n",
    "- [Internet User Classification](https://data.cdrc.ac.uk/dataset/internet-user-classification)\n",
    "- [Spatial Signatures of Great Britain](https://data.cdrc.ac.uk/dataset/spatial-signatures-great-britain)\n",
    "- [Classification of Multidimensional Open Data of Urban Morphology](https://data.cdrc.ac.uk/dataset/classification-multidimensional-open-data-urban-morphology-modum)\n",
    "- [Ageing in Place Classification](https://data.cdrc.ac.uk/dataset/ageing-place-classification-aipc)\n",
    "- [Spectus Origin-Destination Derived Mobility Data](https://data.cdrc.ac.uk/dataset/spectus-origin-destination-derived-mobility-data)\n",
    "- [Retail Centre Boundaries and Open Indicators](https://data.cdrc.ac.uk/dataset/retail-centre-boundaries-and-open-indicators)\n",
    "- [E-food Desert Index](https://data.cdrc.ac.uk/dataset/e-food-desert-index)\n",
    "\n",
    "### CDRC Safeguarded Datasets:\n",
    "- Access Requests In Progress\n",
    "\n",
    "### CDRC Secure Datasets:\n",
    "- Access Requests In Progress\n",
    "\n",
    "TODO mention the awkwardness of the CDRC api (use of dataset within api url vs as a parameter)"
   ]
  }
 ],
 "metadata": {
  "jupytext": {
   "text_representation": {
    "extension": ".md",
    "format_name": "myst",
    "format_version": 0.13,
    "jupytext_version": "1.11.5"
   }
  },
  "kernelspec": {
   "display_name": "Python 3",
   "language": "python",
   "name": "python3"
  },
  "source_map": [
   12
  ]
 },
 "nbformat": 4,
 "nbformat_minor": 5
}