{
 "cells": [
  {
   "cell_type": "markdown",
   "id": "0af9dcac",
   "metadata": {},
   "source": [
    "# Data Storage\n",
    "\n",
    "## TODO start with a brief introduction to data storage\n",
    "## mention the different types of data storage formats\n",
    "## go onto postgis env for future processing and working with data\n",
    "## this dev container enables us to work with postgis and python ...\n",
    "## test\n",
    "\n",
    "## Mention potential for geoparquet in the future\n",
    "asfafasfafaf:\n",
    "- asfsaf\n",
    "  - asffaf\n",
    "\n",
    "```{bibliography}\n",
    "```"
   ]
  }
 ],
 "metadata": {
  "jupytext": {
   "text_representation": {
    "extension": ".md",
    "format_name": "myst",
    "format_version": 0.13,
    "jupytext_version": "1.11.5"
   }
  },
  "kernelspec": {
   "display_name": "Python 3",
   "language": "python",
   "name": "python3"
  },
  "source_map": [
   12
  ]
 },
 "nbformat": 4,
 "nbformat_minor": 5
}