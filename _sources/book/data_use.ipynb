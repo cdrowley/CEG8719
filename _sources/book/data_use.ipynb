{
 "cells": [
  {
   "cell_type": "markdown",
   "metadata": {},
   "source": [
    "# Data Use"
   ]
  },
  {
   "cell_type": "code",
   "execution_count": null,
   "metadata": {},
   "outputs": [],
   "source": [
    "# import duckdb\n",
    "# import geopandas as gpd\n",
    "\n",
    "# query = f\"\"\"\n",
    "# SELECT\n",
    "#     oa_code_21\n",
    "#     , la_code_23\n",
    "#     , super_grp\n",
    "#     , grp\n",
    "#     , sub_grp\n",
    "#     , ST_ASHEXWKB(ST_GeomFromWKB(geom_wkb_4326)) AS geom_hexwkb_4326\n",
    "# FROM READ_PARQUET(\"{data_file}\")\n",
    "# WHERE la_code_23 = 'E08000021'\n",
    "# ;\n",
    "# \"\"\"\n",
    "\n",
    "# df = con.sql(query).df()\n",
    "# gdf = gpd.GeoDataFrame(\n",
    "#     df.drop(columns=['geom_hexwkb_4326'])\n",
    "#     , geometry=gpd.GeoSeries.from_wkb(df['geom_hexwkb_4326'])\n",
    "#     , crs='EPSG:4326'\n",
    "# )\n",
    "\n",
    "# gdf.explore(column='grp')"
   ]
  },
  {
   "cell_type": "code",
   "execution_count": null,
   "metadata": {},
   "outputs": [],
   "source": []
  }
 ],
 "metadata": {
  "language_info": {
   "name": "python"
  }
 },
 "nbformat": 4,
 "nbformat_minor": 2
}
